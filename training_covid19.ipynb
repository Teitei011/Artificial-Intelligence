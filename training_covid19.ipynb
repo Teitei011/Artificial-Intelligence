{
  "nbformat": 4,
  "nbformat_minor": 0,
  "metadata": {
    "kernelspec": {
      "display_name": "Python 3",
      "language": "python",
      "name": "python3"
    },
    "language_info": {
      "codemirror_mode": {
        "name": "ipython",
        "version": 3
      },
      "file_extension": ".py",
      "mimetype": "text/x-python",
      "name": "python",
      "nbconvert_exporter": "python",
      "pygments_lexer": "ipython3",
      "version": "3.8.2"
    },
    "colab": {
      "name": "training_covid19.ipynb",
      "provenance": [],
      "collapsed_sections": [],
      "toc_visible": true,
      "include_colab_link": true
    },
    "accelerator": "GPU"
  },
  "cells": [
    {
      "cell_type": "markdown",
      "metadata": {
        "id": "view-in-github",
        "colab_type": "text"
      },
      "source": [
        "<a href=\"https://colab.research.google.com/github/Teitei011/Artificial-Intelligence/blob/master/training_covid19.ipynb\" target=\"_parent\"><img src=\"https://colab.research.google.com/assets/colab-badge.svg\" alt=\"Open In Colab\"/></a>"
      ]
    },
    {
      "cell_type": "code",
      "metadata": {
        "id": "fOZPBxKPI7JO",
        "colab_type": "code",
        "colab": {}
      },
      "source": [
        ""
      ],
      "execution_count": 0,
      "outputs": []
    },
    {
      "cell_type": "code",
      "metadata": {
        "id": "HKYDvvkj63OY",
        "colab_type": "code",
        "outputId": "3bca34f2-115e-4938-9ac4-6b589e5a0709",
        "colab": {
          "base_uri": "https://localhost:8080/",
          "height": 121
        }
      },
      "source": [
        "!git clone https://github.com/Teitei011/X_Ray_Corona"
      ],
      "execution_count": 0,
      "outputs": [
        {
          "output_type": "stream",
          "text": [
            "Cloning into 'X_Ray_Corona'...\n",
            "remote: Enumerating objects: 55, done.\u001b[K\n",
            "remote: Counting objects: 100% (55/55), done.\u001b[K\n",
            "remote: Compressing objects: 100% (54/54), done.\u001b[K\n",
            "remote: Total 55 (delta 0), reused 55 (delta 0), pack-reused 0\u001b[K\n",
            "Unpacking objects: 100% (55/55), done.\n"
          ],
          "name": "stdout"
        }
      ]
    },
    {
      "cell_type": "code",
      "metadata": {
        "id": "2SDj0DxJ63kt",
        "colab_type": "code",
        "outputId": "02710a45-0c36-4ed1-e806-4599dfc7fc52",
        "colab": {
          "base_uri": "https://localhost:8080/",
          "height": 34
        }
      },
      "source": [
        "cd X_Ray_Corona/dataset"
      ],
      "execution_count": 0,
      "outputs": [
        {
          "output_type": "stream",
          "text": [
            "/content/X_Ray_Corona/dataset/X_Ray_Corona/dataset\n"
          ],
          "name": "stdout"
        }
      ]
    },
    {
      "cell_type": "code",
      "metadata": {
        "id": "geyTKi3BRJ7S",
        "colab_type": "code",
        "outputId": "4c397d41-ee60-4502-b72b-e985e6fcf227",
        "colab": {
          "base_uri": "https://localhost:8080/",
          "height": 122
        }
      },
      "source": [
        "from google.colab import drive\n",
        "drive.mount('/content/drive')"
      ],
      "execution_count": 1,
      "outputs": [
        {
          "output_type": "stream",
          "text": [
            "Go to this URL in a browser: https://accounts.google.com/o/oauth2/auth?client_id=947318989803-6bn6qk8qdgf4n4g3pfee6491hc0brc4i.apps.googleusercontent.com&redirect_uri=urn%3aietf%3awg%3aoauth%3a2.0%3aoob&response_type=code&scope=email%20https%3a%2f%2fwww.googleapis.com%2fauth%2fdocs.test%20https%3a%2f%2fwww.googleapis.com%2fauth%2fdrive%20https%3a%2f%2fwww.googleapis.com%2fauth%2fdrive.photos.readonly%20https%3a%2f%2fwww.googleapis.com%2fauth%2fpeopleapi.readonly\n",
            "\n",
            "Enter your authorization code:\n",
            "··········\n",
            "Mounted at /content/drive\n"
          ],
          "name": "stdout"
        }
      ]
    },
    {
      "cell_type": "markdown",
      "metadata": {
        "id": "jtBWXMM1AaxZ",
        "colab_type": "text"
      },
      "source": [
        "## Importing "
      ]
    },
    {
      "cell_type": "code",
      "metadata": {
        "id": "59wqI8I6nkze",
        "colab_type": "code",
        "colab": {}
      },
      "source": [
        "from tensorflow.keras.preprocessing.image import ImageDataGenerator\n",
        "from tensorflow.keras.layers import AveragePooling2D\n",
        "from sklearn.model_selection import train_test_split\n",
        "from tensorflow.keras.utils import to_categorical\n",
        "from sklearn.metrics import classification_report\n",
        "from sklearn.preprocessing import LabelBinarizer\n",
        "from tensorflow.keras.applications import VGG16\n",
        "from tensorflow.keras.optimizers import Adam\n",
        "from sklearn.metrics import confusion_matrix\n",
        "from tensorflow.keras.layers import Dropout\n",
        "from tensorflow.keras.layers import Flatten\n",
        "from tensorflow.keras.layers import Dense\n",
        "from tensorflow.keras.layers import Input\n",
        "from tensorflow.keras.models import Model\n",
        "import matplotlib.pyplot as plt\n",
        "from imutils import paths\n",
        "import numpy as np\n",
        "import argparse\n",
        "import time \n",
        "import cv2\n",
        "import os\n",
        "\n",
        "import warnings\n",
        "warnings.filterwarnings(\"ignore\")"
      ],
      "execution_count": 0,
      "outputs": []
    },
    {
      "cell_type": "markdown",
      "metadata": {
        "id": "Q_h4qMSf3ilm",
        "colab_type": "text"
      },
      "source": [
        "<center> <h2> </h2></center>"
      ]
    },
    {
      "cell_type": "code",
      "metadata": {
        "id": "xclPmVSUluwL",
        "colab_type": "code",
        "colab": {}
      },
      "source": [
        "path = \"/content/drive/My Drive/CoronaVirus/\"\n",
        "file_path = path + \"/DataSet\"\n",
        "args = [file_path, \"plot.png\"]\n",
        "\n",
        "\n",
        "# Initialize the initial learning rate, number of epochs to train for,  batch size\n",
        "INIT_LR = 1e-3\n",
        "EPOCHS = 50\n",
        "BS = 8"
      ],
      "execution_count": 0,
      "outputs": []
    },
    {
      "cell_type": "markdown",
      "metadata": {
        "id": "ZK8HM8cTdzUO",
        "colab_type": "text"
      },
      "source": [
        "## Loading Images "
      ]
    },
    {
      "cell_type": "code",
      "metadata": {
        "id": "al_Vq4zjdyQh",
        "colab_type": "code",
        "outputId": "fbfcf8b1-4347-4cff-df53-32a4ad42a49c",
        "colab": {
          "base_uri": "https://localhost:8080/",
          "height": 51
        }
      },
      "source": [
        "data = []\n",
        "labels = []\n",
        "\n",
        "print(\"[INFO] Loading images\")\n",
        "data = np.load(\"/content/drive/My Drive/CoronaVirus/Processed_images/data.npy\")\n",
        "labels = np.load(\"/content/drive/My Drive/CoronaVirus/Processed_images/labels.npy\")\n",
        "print(\"[INFO] All images has been loaded\")"
      ],
      "execution_count": 15,
      "outputs": [
        {
          "output_type": "stream",
          "text": [
            "[INFO] Loading images\n",
            "[INFO] All images has been loaded\n"
          ],
          "name": "stdout"
        }
      ]
    },
    {
      "cell_type": "code",
      "metadata": {
        "id": "3yFOfgzsKIJX",
        "colab_type": "code",
        "outputId": "ffc541c4-b721-4a72-ff87-c8ab06c11537",
        "colab": {
          "base_uri": "https://localhost:8080/",
          "height": 34
        }
      },
      "source": [
        "print(\"[INFO] Pixels matrix: {:.2f}MB\".format(data.nbytes / (1024 * 1000.0)))"
      ],
      "execution_count": 5,
      "outputs": [
        {
          "output_type": "stream",
          "text": [
            "[INFO] Pixels matrix: 1754.59MB\n"
          ],
          "name": "stdout"
        }
      ]
    },
    {
      "cell_type": "markdown",
      "metadata": {
        "id": "g8EOVBTt4n-4",
        "colab_type": "text"
      },
      "source": [
        "##  One-hot encoding of the labels and creating the training/testing splits "
      ]
    },
    {
      "cell_type": "code",
      "metadata": {
        "id": "HKfGIR5pl2gV",
        "colab_type": "code",
        "outputId": "68754ca5-ff45-483f-8520-a1b0a528401d",
        "colab": {
          "base_uri": "https://localhost:8080/",
          "height": 68
        }
      },
      "source": [
        "print(\"[INFO] Performing one-hot enconding on the labels\")\n",
        "lb = LabelBinarizer()\n",
        "labels = lb.fit_transform(labels)\n",
        "labels = to_categorical(labels)\n",
        "\n",
        "\n",
        "print(\"[INFO] Partitioning the data into training and testing\")\n",
        "# partition the data into training and testing splits using 80% of\n",
        "# the data for training and the remaining 20% for testing\n",
        "(trainX, testX, trainY, testY) = train_test_split(data, labels,\n",
        "\ttest_size=0.20, stratify=labels, random_state=42)\n",
        "\n",
        "print(\"[INFO] Initializing the training data augmentation object\")\n",
        "trainAug = ImageDataGenerator(\n",
        "\trotation_range=15,\n",
        "\tfill_mode=\"nearest\")\n"
      ],
      "execution_count": 16,
      "outputs": [
        {
          "output_type": "stream",
          "text": [
            "[INFO] Performing one-hot enconding on the labels\n",
            "[INFO] Partitioning the data into training and testing\n",
            "[INFO] Initializing the training data augmentation object\n"
          ],
          "name": "stdout"
        }
      ]
    },
    {
      "cell_type": "markdown",
      "metadata": {
        "id": "thLDwbrg5hy-",
        "colab_type": "text"
      },
      "source": [
        "## The Model"
      ]
    },
    {
      "cell_type": "code",
      "metadata": {
        "id": "NnSl7jfRnL_o",
        "colab_type": "code",
        "outputId": "6f3dc133-7235-497c-9462-d4f2389867dd",
        "colab": {
          "base_uri": "https://localhost:8080/",
          "height": 51
        }
      },
      "source": [
        "# From here we will initialize our VGGNet model and set it up for fine-tuning:\n",
        "\n",
        "print(\"[INFO] Initializing the VGGNet model \")\n",
        "# load the VGG16 network, ensuring the head FC layer sets are left\n",
        "# off\n",
        "baseModel = VGG16(weights=\"imagenet\", include_top=False,\n",
        "\tinput_tensor=Input(shape=(224, 224, 3)))\n",
        "# construct the head of the model that will be placed on top of the\n",
        "# the base model\n",
        "headModel = baseModel.output\n",
        "headModel = AveragePooling2D(pool_size=(4, 4))(headModel)\n",
        "headModel = Flatten(name=\"flatten\")(headModel)\n",
        "headModel = Dense(64, activation=\"relu\")(headModel) #64\n",
        "headModel = Dropout(0.5)(headModel)\n",
        "headModel = Dense(2, activation=\"softmax\")(headModel)\n",
        "# place the head FC model on top of the base model (this will become\n",
        "# the actual model we will train)\n",
        "model = Model(inputs=baseModel.input, outputs=headModel)\n",
        "# loop over all layers in the base model and freeze them so they will\n",
        "# *not* be updated during the first training process\n",
        "for layer in baseModel.layers:\n",
        "\tlayer.trainable = False\n",
        "  \n",
        "print(\"[INFO] VGGNet model initiated\")"
      ],
      "execution_count": 17,
      "outputs": [
        {
          "output_type": "stream",
          "text": [
            "[INFO] Initializing the VGGNet model \n",
            "[INFO] VGGNet model initiated\n"
          ],
          "name": "stdout"
        }
      ]
    },
    {
      "cell_type": "markdown",
      "metadata": {
        "id": "fWzrwIlB9J2o",
        "colab_type": "text"
      },
      "source": [
        "##Compiling and training the model \n"
      ]
    },
    {
      "cell_type": "code",
      "metadata": {
        "id": "oxqKK_88p5iK",
        "colab_type": "code",
        "outputId": "fa89e33c-3daa-4065-ab80-08c9e87a4960",
        "colab": {
          "base_uri": "https://localhost:8080/",
          "height": 1000
        }
      },
      "source": [
        "# We’re now ready to compile and train our COVID-19 (coronavirus) deep learning model:\n",
        "start = time.time()\n",
        "# compile our model\n",
        "print(\"[INFO] Compiling model...\")\n",
        "opt = Adam(lr=INIT_LR, decay=INIT_LR / EPOCHS)\n",
        "model.compile(loss=\"binary_crossentropy\", optimizer=opt,\n",
        "\tmetrics=[\"accuracy\"])\n",
        "# train the head of the network\n",
        "print(\"[INFO] Training head...\")\n",
        "H = model.fit_generator(\n",
        "\ttrainAug.flow(trainX, trainY, batch_size=BS),\n",
        "\tsteps_per_epoch=len(trainX) // BS,\n",
        "\tvalidation_data=(testX, testY),\n",
        "\tvalidation_steps=len(testX) // BS,\n",
        "\tepochs=EPOCHS)\n",
        "\n",
        "print(\"[INFO] It took {:.2f} seconds\".format(time.time() - start))"
      ],
      "execution_count": 24,
      "outputs": [
        {
          "output_type": "stream",
          "text": [
            "[INFO] Compiling model...\n",
            "[INFO] Training head...\n",
            "Epoch 1/50\n",
            "74/74 [==============================] - ETA: 0s - loss: 0.4248 - accuracy: 0.7990WARNING:tensorflow:Your input ran out of data; interrupting training. Make sure that your dataset or generator can generate at least `steps_per_epoch * epochs` batches (in this case, 18 batches). You may need to use the repeat() function when building your dataset.\n",
            "74/74 [==============================] - 8s 110ms/step - loss: 0.4248 - accuracy: 0.7990 - val_loss: 0.4739 - val_accuracy: 0.8000\n",
            "Epoch 2/50\n",
            "74/74 [==============================] - ETA: 0s - loss: 0.4022 - accuracy: 0.8153WARNING:tensorflow:Your input ran out of data; interrupting training. Make sure that your dataset or generator can generate at least `steps_per_epoch * epochs` batches (in this case, 18 batches). You may need to use the repeat() function when building your dataset.\n",
            "74/74 [==============================] - 8s 107ms/step - loss: 0.4022 - accuracy: 0.8153 - val_loss: 0.4811 - val_accuracy: 0.7733\n",
            "Epoch 3/50\n",
            "74/74 [==============================] - ETA: 0s - loss: 0.3981 - accuracy: 0.8203WARNING:tensorflow:Your input ran out of data; interrupting training. Make sure that your dataset or generator can generate at least `steps_per_epoch * epochs` batches (in this case, 18 batches). You may need to use the repeat() function when building your dataset.\n",
            "74/74 [==============================] - 8s 105ms/step - loss: 0.3981 - accuracy: 0.8203 - val_loss: 0.5172 - val_accuracy: 0.7667\n",
            "Epoch 4/50\n",
            "74/74 [==============================] - ETA: 0s - loss: 0.4138 - accuracy: 0.8271WARNING:tensorflow:Your input ran out of data; interrupting training. Make sure that your dataset or generator can generate at least `steps_per_epoch * epochs` batches (in this case, 18 batches). You may need to use the repeat() function when building your dataset.\n",
            "74/74 [==============================] - 8s 105ms/step - loss: 0.4138 - accuracy: 0.8271 - val_loss: 0.4965 - val_accuracy: 0.7533\n",
            "Epoch 5/50\n",
            "74/74 [==============================] - ETA: 0s - loss: 0.4058 - accuracy: 0.8034WARNING:tensorflow:Your input ran out of data; interrupting training. Make sure that your dataset or generator can generate at least `steps_per_epoch * epochs` batches (in this case, 18 batches). You may need to use the repeat() function when building your dataset.\n",
            "74/74 [==============================] - 8s 106ms/step - loss: 0.4058 - accuracy: 0.8034 - val_loss: 0.4718 - val_accuracy: 0.7800\n",
            "Epoch 6/50\n",
            "74/74 [==============================] - ETA: 0s - loss: 0.3899 - accuracy: 0.8119WARNING:tensorflow:Your input ran out of data; interrupting training. Make sure that your dataset or generator can generate at least `steps_per_epoch * epochs` batches (in this case, 18 batches). You may need to use the repeat() function when building your dataset.\n",
            "74/74 [==============================] - 8s 106ms/step - loss: 0.3899 - accuracy: 0.8119 - val_loss: 0.5910 - val_accuracy: 0.6933\n",
            "Epoch 7/50\n",
            "74/74 [==============================] - ETA: 0s - loss: 0.4007 - accuracy: 0.8186WARNING:tensorflow:Your input ran out of data; interrupting training. Make sure that your dataset or generator can generate at least `steps_per_epoch * epochs` batches (in this case, 18 batches). You may need to use the repeat() function when building your dataset.\n",
            "74/74 [==============================] - 8s 106ms/step - loss: 0.4007 - accuracy: 0.8186 - val_loss: 0.4654 - val_accuracy: 0.8000\n",
            "Epoch 8/50\n",
            "74/74 [==============================] - ETA: 0s - loss: 0.3915 - accuracy: 0.8051WARNING:tensorflow:Your input ran out of data; interrupting training. Make sure that your dataset or generator can generate at least `steps_per_epoch * epochs` batches (in this case, 18 batches). You may need to use the repeat() function when building your dataset.\n",
            "74/74 [==============================] - 8s 106ms/step - loss: 0.3915 - accuracy: 0.8051 - val_loss: 0.4786 - val_accuracy: 0.7800\n",
            "Epoch 9/50\n",
            "74/74 [==============================] - ETA: 0s - loss: 0.3621 - accuracy: 0.8373WARNING:tensorflow:Your input ran out of data; interrupting training. Make sure that your dataset or generator can generate at least `steps_per_epoch * epochs` batches (in this case, 18 batches). You may need to use the repeat() function when building your dataset.\n",
            "74/74 [==============================] - 8s 107ms/step - loss: 0.3621 - accuracy: 0.8373 - val_loss: 0.4805 - val_accuracy: 0.7867\n",
            "Epoch 10/50\n",
            "74/74 [==============================] - ETA: 0s - loss: 0.3686 - accuracy: 0.8339WARNING:tensorflow:Your input ran out of data; interrupting training. Make sure that your dataset or generator can generate at least `steps_per_epoch * epochs` batches (in this case, 18 batches). You may need to use the repeat() function when building your dataset.\n",
            "74/74 [==============================] - 8s 106ms/step - loss: 0.3686 - accuracy: 0.8339 - val_loss: 0.5493 - val_accuracy: 0.7267\n",
            "Epoch 11/50\n",
            "74/74 [==============================] - ETA: 0s - loss: 0.3713 - accuracy: 0.8254WARNING:tensorflow:Your input ran out of data; interrupting training. Make sure that your dataset or generator can generate at least `steps_per_epoch * epochs` batches (in this case, 18 batches). You may need to use the repeat() function when building your dataset.\n",
            "74/74 [==============================] - 8s 106ms/step - loss: 0.3713 - accuracy: 0.8254 - val_loss: 0.5585 - val_accuracy: 0.7133\n",
            "Epoch 12/50\n",
            "74/74 [==============================] - ETA: 0s - loss: 0.3461 - accuracy: 0.8576WARNING:tensorflow:Your input ran out of data; interrupting training. Make sure that your dataset or generator can generate at least `steps_per_epoch * epochs` batches (in this case, 18 batches). You may need to use the repeat() function when building your dataset.\n",
            "74/74 [==============================] - 8s 107ms/step - loss: 0.3461 - accuracy: 0.8576 - val_loss: 0.4835 - val_accuracy: 0.7733\n",
            "Epoch 13/50\n",
            "74/74 [==============================] - ETA: 0s - loss: 0.3713 - accuracy: 0.8271WARNING:tensorflow:Your input ran out of data; interrupting training. Make sure that your dataset or generator can generate at least `steps_per_epoch * epochs` batches (in this case, 18 batches). You may need to use the repeat() function when building your dataset.\n",
            "74/74 [==============================] - 8s 106ms/step - loss: 0.3713 - accuracy: 0.8271 - val_loss: 0.4675 - val_accuracy: 0.7867\n",
            "Epoch 14/50\n",
            "74/74 [==============================] - ETA: 0s - loss: 0.3505 - accuracy: 0.8119WARNING:tensorflow:Your input ran out of data; interrupting training. Make sure that your dataset or generator can generate at least `steps_per_epoch * epochs` batches (in this case, 18 batches). You may need to use the repeat() function when building your dataset.\n",
            "74/74 [==============================] - 8s 106ms/step - loss: 0.3505 - accuracy: 0.8119 - val_loss: 0.4796 - val_accuracy: 0.7867\n",
            "Epoch 15/50\n",
            "74/74 [==============================] - ETA: 0s - loss: 0.3530 - accuracy: 0.8458WARNING:tensorflow:Your input ran out of data; interrupting training. Make sure that your dataset or generator can generate at least `steps_per_epoch * epochs` batches (in this case, 18 batches). You may need to use the repeat() function when building your dataset.\n",
            "74/74 [==============================] - 8s 106ms/step - loss: 0.3530 - accuracy: 0.8458 - val_loss: 0.5368 - val_accuracy: 0.7400\n",
            "Epoch 16/50\n",
            "74/74 [==============================] - ETA: 0s - loss: 0.3188 - accuracy: 0.8542WARNING:tensorflow:Your input ran out of data; interrupting training. Make sure that your dataset or generator can generate at least `steps_per_epoch * epochs` batches (in this case, 18 batches). You may need to use the repeat() function when building your dataset.\n",
            "74/74 [==============================] - 8s 106ms/step - loss: 0.3188 - accuracy: 0.8542 - val_loss: 0.4871 - val_accuracy: 0.7600\n",
            "Epoch 17/50\n",
            "74/74 [==============================] - ETA: 0s - loss: 0.3587 - accuracy: 0.8339WARNING:tensorflow:Your input ran out of data; interrupting training. Make sure that your dataset or generator can generate at least `steps_per_epoch * epochs` batches (in this case, 18 batches). You may need to use the repeat() function when building your dataset.\n",
            "74/74 [==============================] - 8s 106ms/step - loss: 0.3587 - accuracy: 0.8339 - val_loss: 0.4586 - val_accuracy: 0.8067\n",
            "Epoch 18/50\n",
            "74/74 [==============================] - ETA: 0s - loss: 0.3619 - accuracy: 0.8169WARNING:tensorflow:Your input ran out of data; interrupting training. Make sure that your dataset or generator can generate at least `steps_per_epoch * epochs` batches (in this case, 18 batches). You may need to use the repeat() function when building your dataset.\n",
            "74/74 [==============================] - 8s 106ms/step - loss: 0.3619 - accuracy: 0.8169 - val_loss: 0.5665 - val_accuracy: 0.7267\n",
            "Epoch 19/50\n",
            "74/74 [==============================] - ETA: 0s - loss: 0.3358 - accuracy: 0.8661WARNING:tensorflow:Your input ran out of data; interrupting training. Make sure that your dataset or generator can generate at least `steps_per_epoch * epochs` batches (in this case, 18 batches). You may need to use the repeat() function when building your dataset.\n",
            "74/74 [==============================] - 8s 106ms/step - loss: 0.3358 - accuracy: 0.8661 - val_loss: 0.5180 - val_accuracy: 0.7333\n",
            "Epoch 20/50\n",
            "74/74 [==============================] - ETA: 0s - loss: 0.3209 - accuracy: 0.8542WARNING:tensorflow:Your input ran out of data; interrupting training. Make sure that your dataset or generator can generate at least `steps_per_epoch * epochs` batches (in this case, 18 batches). You may need to use the repeat() function when building your dataset.\n",
            "74/74 [==============================] - 8s 107ms/step - loss: 0.3209 - accuracy: 0.8542 - val_loss: 0.4939 - val_accuracy: 0.7467\n",
            "Epoch 21/50\n",
            "74/74 [==============================] - ETA: 0s - loss: 0.3195 - accuracy: 0.8525WARNING:tensorflow:Your input ran out of data; interrupting training. Make sure that your dataset or generator can generate at least `steps_per_epoch * epochs` batches (in this case, 18 batches). You may need to use the repeat() function when building your dataset.\n",
            "74/74 [==============================] - 8s 106ms/step - loss: 0.3195 - accuracy: 0.8525 - val_loss: 0.4733 - val_accuracy: 0.7867\n",
            "Epoch 22/50\n",
            "74/74 [==============================] - ETA: 0s - loss: 0.3411 - accuracy: 0.8441WARNING:tensorflow:Your input ran out of data; interrupting training. Make sure that your dataset or generator can generate at least `steps_per_epoch * epochs` batches (in this case, 18 batches). You may need to use the repeat() function when building your dataset.\n",
            "74/74 [==============================] - 8s 107ms/step - loss: 0.3411 - accuracy: 0.8441 - val_loss: 0.4815 - val_accuracy: 0.7733\n",
            "Epoch 23/50\n",
            "74/74 [==============================] - ETA: 0s - loss: 0.3411 - accuracy: 0.8475WARNING:tensorflow:Your input ran out of data; interrupting training. Make sure that your dataset or generator can generate at least `steps_per_epoch * epochs` batches (in this case, 18 batches). You may need to use the repeat() function when building your dataset.\n",
            "74/74 [==============================] - 8s 106ms/step - loss: 0.3411 - accuracy: 0.8475 - val_loss: 0.4526 - val_accuracy: 0.7867\n",
            "Epoch 24/50\n",
            "74/74 [==============================] - ETA: 0s - loss: 0.3143 - accuracy: 0.8627WARNING:tensorflow:Your input ran out of data; interrupting training. Make sure that your dataset or generator can generate at least `steps_per_epoch * epochs` batches (in this case, 18 batches). You may need to use the repeat() function when building your dataset.\n",
            "74/74 [==============================] - 8s 107ms/step - loss: 0.3143 - accuracy: 0.8627 - val_loss: 0.4636 - val_accuracy: 0.8000\n",
            "Epoch 25/50\n",
            "74/74 [==============================] - ETA: 0s - loss: 0.3159 - accuracy: 0.8610WARNING:tensorflow:Your input ran out of data; interrupting training. Make sure that your dataset or generator can generate at least `steps_per_epoch * epochs` batches (in this case, 18 batches). You may need to use the repeat() function when building your dataset.\n",
            "74/74 [==============================] - 8s 108ms/step - loss: 0.3159 - accuracy: 0.8610 - val_loss: 0.5017 - val_accuracy: 0.7467\n",
            "Epoch 26/50\n",
            "74/74 [==============================] - ETA: 0s - loss: 0.3094 - accuracy: 0.8593WARNING:tensorflow:Your input ran out of data; interrupting training. Make sure that your dataset or generator can generate at least `steps_per_epoch * epochs` batches (in this case, 18 batches). You may need to use the repeat() function when building your dataset.\n",
            "74/74 [==============================] - 8s 107ms/step - loss: 0.3094 - accuracy: 0.8593 - val_loss: 0.4661 - val_accuracy: 0.7933\n",
            "Epoch 27/50\n",
            "74/74 [==============================] - ETA: 0s - loss: 0.3274 - accuracy: 0.8424WARNING:tensorflow:Your input ran out of data; interrupting training. Make sure that your dataset or generator can generate at least `steps_per_epoch * epochs` batches (in this case, 18 batches). You may need to use the repeat() function when building your dataset.\n",
            "74/74 [==============================] - 8s 107ms/step - loss: 0.3274 - accuracy: 0.8424 - val_loss: 0.4383 - val_accuracy: 0.8333\n",
            "Epoch 28/50\n",
            "74/74 [==============================] - ETA: 0s - loss: 0.3053 - accuracy: 0.8797WARNING:tensorflow:Your input ran out of data; interrupting training. Make sure that your dataset or generator can generate at least `steps_per_epoch * epochs` batches (in this case, 18 batches). You may need to use the repeat() function when building your dataset.\n",
            "74/74 [==============================] - 8s 106ms/step - loss: 0.3053 - accuracy: 0.8797 - val_loss: 0.5134 - val_accuracy: 0.7333\n",
            "Epoch 29/50\n",
            "74/74 [==============================] - ETA: 0s - loss: 0.3041 - accuracy: 0.8610WARNING:tensorflow:Your input ran out of data; interrupting training. Make sure that your dataset or generator can generate at least `steps_per_epoch * epochs` batches (in this case, 18 batches). You may need to use the repeat() function when building your dataset.\n",
            "74/74 [==============================] - 8s 106ms/step - loss: 0.3041 - accuracy: 0.8610 - val_loss: 0.4425 - val_accuracy: 0.7933\n",
            "Epoch 30/50\n",
            "74/74 [==============================] - ETA: 0s - loss: 0.2868 - accuracy: 0.8695WARNING:tensorflow:Your input ran out of data; interrupting training. Make sure that your dataset or generator can generate at least `steps_per_epoch * epochs` batches (in this case, 18 batches). You may need to use the repeat() function when building your dataset.\n",
            "74/74 [==============================] - 8s 105ms/step - loss: 0.2868 - accuracy: 0.8695 - val_loss: 0.4931 - val_accuracy: 0.7400\n",
            "Epoch 31/50\n",
            "74/74 [==============================] - ETA: 0s - loss: 0.3003 - accuracy: 0.8458WARNING:tensorflow:Your input ran out of data; interrupting training. Make sure that your dataset or generator can generate at least `steps_per_epoch * epochs` batches (in this case, 18 batches). You may need to use the repeat() function when building your dataset.\n",
            "74/74 [==============================] - 8s 105ms/step - loss: 0.3003 - accuracy: 0.8458 - val_loss: 0.4962 - val_accuracy: 0.7533\n",
            "Epoch 32/50\n",
            "74/74 [==============================] - ETA: 0s - loss: 0.3148 - accuracy: 0.8610WARNING:tensorflow:Your input ran out of data; interrupting training. Make sure that your dataset or generator can generate at least `steps_per_epoch * epochs` batches (in this case, 18 batches). You may need to use the repeat() function when building your dataset.\n",
            "74/74 [==============================] - 8s 105ms/step - loss: 0.3148 - accuracy: 0.8610 - val_loss: 0.4514 - val_accuracy: 0.7933\n",
            "Epoch 33/50\n",
            "74/74 [==============================] - ETA: 0s - loss: 0.2718 - accuracy: 0.8864WARNING:tensorflow:Your input ran out of data; interrupting training. Make sure that your dataset or generator can generate at least `steps_per_epoch * epochs` batches (in this case, 18 batches). You may need to use the repeat() function when building your dataset.\n",
            "74/74 [==============================] - 8s 105ms/step - loss: 0.2718 - accuracy: 0.8864 - val_loss: 0.4868 - val_accuracy: 0.7667\n",
            "Epoch 34/50\n",
            "74/74 [==============================] - ETA: 0s - loss: 0.2874 - accuracy: 0.8864WARNING:tensorflow:Your input ran out of data; interrupting training. Make sure that your dataset or generator can generate at least `steps_per_epoch * epochs` batches (in this case, 18 batches). You may need to use the repeat() function when building your dataset.\n",
            "74/74 [==============================] - 8s 104ms/step - loss: 0.2874 - accuracy: 0.8864 - val_loss: 0.5606 - val_accuracy: 0.7467\n",
            "Epoch 35/50\n",
            "74/74 [==============================] - ETA: 0s - loss: 0.2874 - accuracy: 0.8864WARNING:tensorflow:Your input ran out of data; interrupting training. Make sure that your dataset or generator can generate at least `steps_per_epoch * epochs` batches (in this case, 18 batches). You may need to use the repeat() function when building your dataset.\n",
            "74/74 [==============================] - 8s 104ms/step - loss: 0.2874 - accuracy: 0.8864 - val_loss: 0.4554 - val_accuracy: 0.7933\n",
            "Epoch 36/50\n",
            "74/74 [==============================] - ETA: 0s - loss: 0.2800 - accuracy: 0.8780WARNING:tensorflow:Your input ran out of data; interrupting training. Make sure that your dataset or generator can generate at least `steps_per_epoch * epochs` batches (in this case, 18 batches). You may need to use the repeat() function when building your dataset.\n",
            "74/74 [==============================] - 8s 104ms/step - loss: 0.2800 - accuracy: 0.8780 - val_loss: 0.4603 - val_accuracy: 0.8067\n",
            "Epoch 37/50\n",
            "74/74 [==============================] - ETA: 0s - loss: 0.3009 - accuracy: 0.8525WARNING:tensorflow:Your input ran out of data; interrupting training. Make sure that your dataset or generator can generate at least `steps_per_epoch * epochs` batches (in this case, 18 batches). You may need to use the repeat() function when building your dataset.\n",
            "74/74 [==============================] - 8s 104ms/step - loss: 0.3009 - accuracy: 0.8525 - val_loss: 0.5025 - val_accuracy: 0.7933\n",
            "Epoch 38/50\n",
            "74/74 [==============================] - ETA: 0s - loss: 0.2726 - accuracy: 0.8644WARNING:tensorflow:Your input ran out of data; interrupting training. Make sure that your dataset or generator can generate at least `steps_per_epoch * epochs` batches (in this case, 18 batches). You may need to use the repeat() function when building your dataset.\n",
            "74/74 [==============================] - 8s 105ms/step - loss: 0.2726 - accuracy: 0.8644 - val_loss: 0.5260 - val_accuracy: 0.7400\n",
            "Epoch 39/50\n",
            "74/74 [==============================] - ETA: 0s - loss: 0.2828 - accuracy: 0.8661WARNING:tensorflow:Your input ran out of data; interrupting training. Make sure that your dataset or generator can generate at least `steps_per_epoch * epochs` batches (in this case, 18 batches). You may need to use the repeat() function when building your dataset.\n",
            "74/74 [==============================] - 8s 105ms/step - loss: 0.2828 - accuracy: 0.8661 - val_loss: 0.4848 - val_accuracy: 0.7867\n",
            "Epoch 40/50\n",
            "74/74 [==============================] - ETA: 0s - loss: 0.2596 - accuracy: 0.8983WARNING:tensorflow:Your input ran out of data; interrupting training. Make sure that your dataset or generator can generate at least `steps_per_epoch * epochs` batches (in this case, 18 batches). You may need to use the repeat() function when building your dataset.\n",
            "74/74 [==============================] - 8s 106ms/step - loss: 0.2596 - accuracy: 0.8983 - val_loss: 0.4982 - val_accuracy: 0.7867\n",
            "Epoch 41/50\n",
            "74/74 [==============================] - ETA: 0s - loss: 0.2621 - accuracy: 0.8797WARNING:tensorflow:Your input ran out of data; interrupting training. Make sure that your dataset or generator can generate at least `steps_per_epoch * epochs` batches (in this case, 18 batches). You may need to use the repeat() function when building your dataset.\n",
            "74/74 [==============================] - 8s 107ms/step - loss: 0.2621 - accuracy: 0.8797 - val_loss: 0.4764 - val_accuracy: 0.8000\n",
            "Epoch 42/50\n",
            "74/74 [==============================] - ETA: 0s - loss: 0.2708 - accuracy: 0.8847WARNING:tensorflow:Your input ran out of data; interrupting training. Make sure that your dataset or generator can generate at least `steps_per_epoch * epochs` batches (in this case, 18 batches). You may need to use the repeat() function when building your dataset.\n",
            "74/74 [==============================] - 8s 106ms/step - loss: 0.2708 - accuracy: 0.8847 - val_loss: 0.4894 - val_accuracy: 0.8133\n",
            "Epoch 43/50\n",
            "74/74 [==============================] - ETA: 0s - loss: 0.2822 - accuracy: 0.8695WARNING:tensorflow:Your input ran out of data; interrupting training. Make sure that your dataset or generator can generate at least `steps_per_epoch * epochs` batches (in this case, 18 batches). You may need to use the repeat() function when building your dataset.\n",
            "74/74 [==============================] - 8s 105ms/step - loss: 0.2822 - accuracy: 0.8695 - val_loss: 0.4534 - val_accuracy: 0.7667\n",
            "Epoch 44/50\n",
            "74/74 [==============================] - ETA: 0s - loss: 0.2589 - accuracy: 0.9034WARNING:tensorflow:Your input ran out of data; interrupting training. Make sure that your dataset or generator can generate at least `steps_per_epoch * epochs` batches (in this case, 18 batches). You may need to use the repeat() function when building your dataset.\n",
            "74/74 [==============================] - 8s 105ms/step - loss: 0.2589 - accuracy: 0.9034 - val_loss: 0.5029 - val_accuracy: 0.7600\n",
            "Epoch 45/50\n",
            "74/74 [==============================] - ETA: 0s - loss: 0.2570 - accuracy: 0.8797WARNING:tensorflow:Your input ran out of data; interrupting training. Make sure that your dataset or generator can generate at least `steps_per_epoch * epochs` batches (in this case, 18 batches). You may need to use the repeat() function when building your dataset.\n",
            "74/74 [==============================] - 8s 104ms/step - loss: 0.2570 - accuracy: 0.8797 - val_loss: 0.5157 - val_accuracy: 0.7600\n",
            "Epoch 46/50\n",
            "74/74 [==============================] - ETA: 0s - loss: 0.2420 - accuracy: 0.9051WARNING:tensorflow:Your input ran out of data; interrupting training. Make sure that your dataset or generator can generate at least `steps_per_epoch * epochs` batches (in this case, 18 batches). You may need to use the repeat() function when building your dataset.\n",
            "74/74 [==============================] - 8s 104ms/step - loss: 0.2420 - accuracy: 0.9051 - val_loss: 0.5069 - val_accuracy: 0.7733\n",
            "Epoch 47/50\n",
            "74/74 [==============================] - ETA: 0s - loss: 0.2595 - accuracy: 0.9034WARNING:tensorflow:Your input ran out of data; interrupting training. Make sure that your dataset or generator can generate at least `steps_per_epoch * epochs` batches (in this case, 18 batches). You may need to use the repeat() function when building your dataset.\n",
            "74/74 [==============================] - 8s 104ms/step - loss: 0.2595 - accuracy: 0.9034 - val_loss: 0.4747 - val_accuracy: 0.7800\n",
            "Epoch 48/50\n",
            "74/74 [==============================] - ETA: 0s - loss: 0.2654 - accuracy: 0.8847WARNING:tensorflow:Your input ran out of data; interrupting training. Make sure that your dataset or generator can generate at least `steps_per_epoch * epochs` batches (in this case, 18 batches). You may need to use the repeat() function when building your dataset.\n",
            "74/74 [==============================] - 8s 104ms/step - loss: 0.2654 - accuracy: 0.8847 - val_loss: 0.5176 - val_accuracy: 0.7600\n",
            "Epoch 49/50\n",
            "74/74 [==============================] - ETA: 0s - loss: 0.2182 - accuracy: 0.9000WARNING:tensorflow:Your input ran out of data; interrupting training. Make sure that your dataset or generator can generate at least `steps_per_epoch * epochs` batches (in this case, 18 batches). You may need to use the repeat() function when building your dataset.\n",
            "74/74 [==============================] - 8s 104ms/step - loss: 0.2182 - accuracy: 0.9000 - val_loss: 0.5828 - val_accuracy: 0.7267\n",
            "Epoch 50/50\n",
            "74/74 [==============================] - ETA: 0s - loss: 0.2503 - accuracy: 0.8932WARNING:tensorflow:Your input ran out of data; interrupting training. Make sure that your dataset or generator can generate at least `steps_per_epoch * epochs` batches (in this case, 18 batches). You may need to use the repeat() function when building your dataset.\n",
            "74/74 [==============================] - 8s 104ms/step - loss: 0.2503 - accuracy: 0.8932 - val_loss: 0.5130 - val_accuracy: 0.7667\n",
            "[INFO] It took 394.96 seconds\n"
          ],
          "name": "stdout"
        }
      ]
    },
    {
      "cell_type": "markdown",
      "metadata": {
        "id": "2lBvSE7y5-40",
        "colab_type": "text"
      },
      "source": [
        "## Evaluating the model "
      ]
    },
    {
      "cell_type": "code",
      "metadata": {
        "id": "4aoEKKLjp-PS",
        "colab_type": "code",
        "outputId": "9a0b1df3-145d-40b0-bf61-d00d77757abb",
        "colab": {
          "base_uri": "https://localhost:8080/",
          "height": 187
        }
      },
      "source": [
        "# make predictions on the testing set\n",
        "print(\"[INFO] Evaluating network...\")\n",
        "predIdxs = model.predict(testX, batch_size=BS)\n",
        "# for each image in the testing set we need to find the index of the\n",
        "# label with corresponding largest predicted probability\n",
        "predIdxs = np.argmax(predIdxs, axis=1)\n",
        "# show a nicely formatted classification report\n",
        "print(classification_report(testY.argmax(axis=1), predIdxs,\ttarget_names=lb.classes_))"
      ],
      "execution_count": 19,
      "outputs": [
        {
          "output_type": "stream",
          "text": [
            "[INFO] Evaluating network...\n",
            "              precision    recall  f1-score   support\n",
            "\n",
            "    CT_COVID       0.70      0.89      0.78        70\n",
            " CT_NonCOVID       0.87      0.66      0.75        80\n",
            "\n",
            "    accuracy                           0.77       150\n",
            "   macro avg       0.78      0.77      0.77       150\n",
            "weighted avg       0.79      0.77      0.76       150\n",
            "\n"
          ],
          "name": "stdout"
        }
      ]
    },
    {
      "cell_type": "code",
      "metadata": {
        "id": "e_8NvK12qB1p",
        "colab_type": "code",
        "outputId": "7f4af58b-e7ab-428a-c0aa-42e3b614c863",
        "colab": {
          "base_uri": "https://localhost:8080/",
          "height": 68
        }
      },
      "source": [
        "# Next we’ll compute a confusion matrix for further statistical evaluation:\n",
        "\n",
        "# compute the confusion matrix and and use it to derive the raw\n",
        "# accuracy, sensitivity, and specificity\n",
        "cm = confusion_matrix(testY.argmax(axis=1), predIdxs)\n",
        "total = sum(sum(cm))\n",
        "acc = (cm[0, 0] + cm[1, 1]) / total\n",
        "sensitivity = cm[0, 0] / (cm[0, 0] + cm[0, 1])\n",
        "specificity = cm[1, 1] / (cm[1, 0] + cm[1, 1])\n",
        "# show the confusion matrix, accuracy, sensitivity, and specificity\n",
        "# print(cm)\n",
        "print(\"Accuracy: {:.4f}%\".format(acc*100))\n",
        "print(\"Sensitivity: {:.4f}%\".format(sensitivity*100))\n",
        "print(\"Specificity: {:.4f}%\".format(specificity*100))\n"
      ],
      "execution_count": 21,
      "outputs": [
        {
          "output_type": "stream",
          "text": [
            "Accuracy: 76.6667%\n",
            "Sensitivity: 88.5714%\n",
            "Specificity: 66.2500%\n"
          ],
          "name": "stdout"
        }
      ]
    },
    {
      "cell_type": "markdown",
      "metadata": {
        "id": "1_xOgM8l6Q8s",
        "colab_type": "text"
      },
      "source": [
        "## Ploting the training accuracy/loss \n"
      ]
    },
    {
      "cell_type": "code",
      "metadata": {
        "id": "BiVu77aiqI8d",
        "colab_type": "code",
        "outputId": "6127d60c-9aed-458d-bf88-fbe6f1de15a0",
        "colab": {
          "base_uri": "https://localhost:8080/",
          "height": 299
        }
      },
      "source": [
        "# We then plot our training accuracy/loss history for inspection, outputting the plot to an image file:\n",
        "\n",
        "# plot the training loss and accuracy\n",
        "N = EPOCHS\n",
        "plt.style.use(\"ggplot\")\n",
        "plt.figure()\n",
        "plt.plot(np.arange(0, N), H.history[\"loss\"], label=\"train_loss\")\n",
        "plt.plot(np.arange(0, N), H.history[\"val_loss\"], label=\"val_loss\")\n",
        "plt.plot(np.arange(0, N), H.history[\"accuracy\"], label=\"train_acc\")\n",
        "plt.plot(np.arange(0, N), H.history[\"val_accuracy\"], label=\"val_acc\")\n",
        "plt.title(\"Training Loss and Accuracy on COVID-19 Dataset\")\n",
        "plt.xlabel(\"Epoch\")\n",
        "plt.ylabel(\"Loss/Accuracy\")\n",
        "plt.legend(loc=\"center right\")\n",
        "plt.savefig(path + \"plot.png\")"
      ],
      "execution_count": 22,
      "outputs": [
        {
          "output_type": "display_data",
          "data": {
            "image/png": "[encoded data removed]",
            "text/plain": [
              "<Figure size 432x288 with 1 Axes>"
            ]
          },
          "metadata": {
            "tags": []
          }
        }
      ]
    },
    {
      "cell_type": "markdown",
      "metadata": {
        "id": "eJb2XpVZ6d_L",
        "colab_type": "text"
      },
      "source": [
        "##Saving the model "
      ]
    },
    {
      "cell_type": "code",
      "metadata": {
        "id": "HZbL3-MeqM_J",
        "colab_type": "code",
        "outputId": "7e4d641f-1eb2-457f-e65b-6d16e84624ae",
        "colab": {
          "base_uri": "https://localhost:8080/",
          "height": 51
        }
      },
      "source": [
        "# Finally we serialize our tf.keras COVID-19 classifier model to disk:\n",
        "\n",
        "# serialize the model to disk\n",
        "PATH = \"/content/drive/My Drive/CoronaVirus/Models/\"\n",
        "model_name = PATH + \"covid19_\" + str(np.ceil(time.time())) + \".model\" \n",
        "\n",
        "print(\"[INFO] Saving COVID-19 detector model...\")\n",
        "model.save(model_name, save_format=\"h5\")\n",
        "print(\"[INFO] COVID-19 saved at {}\".format(model_name))"
      ],
      "execution_count": 0,
      "outputs": [
        {
          "output_type": "stream",
          "text": [
            "[INFO] Saving COVID-19 detector model...\n",
            "[INFO] COVID-19 saved at /content/drive/My Drive/CoronaVirus/Models/covid19_1588968328.0.model\n"
          ],
          "name": "stdout"
        }
      ]
    },
    {
      "cell_type": "code",
      "metadata": {
        "id": "98t6mtBuqQso",
        "colab_type": "code",
        "colab": {}
      },
      "source": [
        ""
      ],
      "execution_count": 0,
      "outputs": []
    }
  ]
}